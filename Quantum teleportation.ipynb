{
 "cells": [
  {
   "cell_type": "markdown",
   "metadata": {},
   "source": [
    "# Quantum Teleportation in Cirq"
   ]
  },
  {
   "cell_type": "code",
   "execution_count": 1,
   "metadata": {},
   "outputs": [],
   "source": [
    "# Imports\n",
    "import random\n",
    "import cirq"
   ]
  },
  {
   "cell_type": "code",
   "execution_count": 12,
   "metadata": {},
   "outputs": [],
   "source": [
    "def make_quantum_teleportation_circuit(ranX, ranY):\n",
    "    \"\"\"Returns a quantum teleportation circuit\"\"\"\n",
    "    circuit = cirq.Circuit()\n",
    "    msg, alice, bob = cirq.LineQubit.range(3)\n",
    "\n",
    "    # Creates Bell state to be shared between Alice and Bob\n",
    "    circuit.append([cirq.H(alice), cirq.CNOT(alice, bob)])\n",
    "\n",
    "    # Creates a random state for the message\n",
    "    circuit.append([cirq.X(msg)**ranX, cirq.Y(msg)**ranY])\n",
    "\n",
    "    # Bell measurement of the Message and Alice's entangled qubit\n",
    "    circuit.append([cirq.CNOT(msg, alice), cirq.H(msg)])\n",
    "    circuit.append(cirq.measure(msg, alice))\n",
    "\n",
    "    # Use the two classical bits from the Bell measurement\n",
    "    # to recover the original quantum Message on Bob's entangled qubit\n",
    "    circuit.append([cirq.CNOT(alice, bob), cirq.CZ(msg, bob)])\n",
    "\n",
    "    return msg, circuit"
   ]
  },
  {
   "cell_type": "code",
   "execution_count": 10,
   "metadata": {},
   "outputs": [],
   "source": [
    "def main():\n",
    "    # Encode a random state to teleport\n",
    "    ranX = random.random()\n",
    "    ranY = random.random()\n",
    "    msg, circuit = make_quantum_teleportation_circuit(ranX, ranY)\n",
    "\n",
    "    # Simulate the circuit\n",
    "    sim = cirq.Simulator()\n",
    "    message = sim.simulate(cirq.Circuit(\n",
    "        [cirq.X(msg)**ranX, cirq.Y(msg)**ranY]))\n",
    "    \n",
    "    # Print the Bloch sphere of Alice's qubit\n",
    "    print(\"Bloch sphere of Alice's qubit:\")\n",
    "    b0X, b0Y, b0Z = cirq.bloch_vector_from_state_vector(message.final_state_vector, 0)\n",
    "    print(\"x: \", round(b0X, 4), \n",
    "        \"y: \", round(b0Y, 4),\n",
    "        \"z: \", round(b0Z, 4))\n",
    "    \n",
    "    # Display the teleportation circuit\n",
    "    print(\"\\nCircuit:\")\n",
    "    print(circuit)\n",
    "\n",
    "    # Record the final state of the simulation\n",
    "    final_results = sim.simulate(circuit)\n",
    "\n",
    "    # Print the Bloch sphere of Bob's qubit\n",
    "    print(\"\\nBloch sphere of Bob's qubit:\")\n",
    "    b2X, b2Y, b2Z = cirq.bloch_vector_from_state_vector(final_results.final_state_vector, 2)\n",
    "    print(\"x: \", round(b2X, 4), \n",
    "        \"y: \", round(b2Y, 4),\n",
    "        \"z: \", round(b2Z, 4))"
   ]
  },
  {
   "cell_type": "code",
   "execution_count": 14,
   "metadata": {},
   "outputs": [
    {
     "name": "stdout",
     "output_type": "stream",
     "text": [
      "Bloch sphere of Alice's qubit:\n",
      "x:  -0.2242 y:  -0.9744 z:  -0.0186\n",
      "\n",
      "Circuit:\n",
      "0: ───X^(4/7)───Y^0.474───@───H───M───────@───\n",
      "                          │       │       │\n",
      "1: ───H─────────@─────────X───────M───@───┼───\n",
      "                │                     │   │\n",
      "2: ─────────────X─────────────────────X───@───\n",
      "\n",
      "Bloch sphere of Bob's qubit:\n",
      "x:  -0.2242 y:  -0.9744 z:  -0.0186\n"
     ]
    }
   ],
   "source": [
    "if __name__ == '__main__':\n",
    "    main()"
   ]
  }
 ],
 "metadata": {
  "kernelspec": {
   "display_name": "Python 3",
   "language": "python",
   "name": "python3"
  },
  "language_info": {
   "codemirror_mode": {
    "name": "ipython",
    "version": 3
   },
   "file_extension": ".py",
   "mimetype": "text/x-python",
   "name": "python",
   "nbconvert_exporter": "python",
   "pygments_lexer": "ipython3",
   "version": "3.9.6"
  }
 },
 "nbformat": 4,
 "nbformat_minor": 2
}
