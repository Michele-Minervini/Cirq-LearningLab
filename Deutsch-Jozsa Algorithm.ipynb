{
 "cells": [
  {
   "cell_type": "markdown",
   "metadata": {},
   "source": [
    "# Deutsch-Jozsa Algorithm\n",
    "This algorithm queries an oracle of n-bit boolean inputs to check wheter it is constant or balanced. It does it with just one query, while classically n queries are needed. So, there is a significant computational speedup, from a time complexity of O(n) to O(1)."
   ]
  },
  {
   "cell_type": "code",
   "execution_count": 1,
   "metadata": {},
   "outputs": [],
   "source": [
    "# import the Cirq library\n",
    "import cirq"
   ]
  },
  {
   "cell_type": "markdown",
   "metadata": {},
   "source": [
    "## Deutsch's algorithm on two qubits in Cirq"
   ]
  },
  {
   "cell_type": "code",
   "execution_count": 2,
   "metadata": {},
   "outputs": [],
   "source": [
    "# Get two qubits, a data qubit and target qubit, respectively\n",
    "q0, q1 = cirq.LineQubit.range(2)"
   ]
  },
  {
   "cell_type": "markdown",
   "metadata": {},
   "source": [
    "We define a dictionary which maps oracle names to the operations in the circuit need to enanct the relative function"
   ]
  },
  {
   "cell_type": "code",
   "execution_count": 3,
   "metadata": {},
   "outputs": [],
   "source": [
    "# Dictionary of oracles\n",
    "oracles = {'0':[], '1':[cirq.X(q1)], 'x':[cirq.CNOT(q0,q1)], 'notx':[cirq.CNOT(q0,q1),cirq.X(q1)]}"
   ]
  },
  {
   "cell_type": "code",
   "execution_count": 4,
   "metadata": {},
   "outputs": [],
   "source": [
    "def deutsch_algorithm(oracle):\n",
    "    \"\"\"Yields a circuit for Deutsch's algorithm given operations implementing the oracle\"\"\"\n",
    "    yield cirq.X(q1)\n",
    "    yield cirq.H(q0), cirq.H(q1)\n",
    "    yield oracle\n",
    "    yield cirq.H(q0)\n",
    "    yield cirq.measure(q0)"
   ]
  },
  {
   "cell_type": "code",
   "execution_count": 5,
   "metadata": {},
   "outputs": [
    {
     "name": "stdout",
     "output_type": "stream",
     "text": [
      "Circuit for 0...\n",
      "0: ───H───H───M───\n",
      "\n",
      "1: ───X───H───────\n",
      "\n",
      "Circuit for 1...\n",
      "0: ───H───H───M───\n",
      "\n",
      "1: ───X───H───X───\n",
      "\n",
      "Circuit for x...\n",
      "0: ───H───────@───H───M───\n",
      "              │\n",
      "1: ───X───H───X───────────\n",
      "\n",
      "Circuit for notx...\n",
      "0: ───H───────@───H───M───\n",
      "              │\n",
      "1: ───X───H───X───X───────\n",
      "\n"
     ]
    }
   ],
   "source": [
    "# Display each circuit for all oracles\n",
    "for key, oracle in oracles.items():\n",
    "    print('Circuit for {}...'.format(key))\n",
    "    print(cirq.Circuit(deutsch_algorithm(oracle)),end=\"\\n\\n\")"
   ]
  },
  {
   "cell_type": "code",
   "execution_count": 6,
   "metadata": {},
   "outputs": [
    {
     "name": "stdout",
     "output_type": "stream",
     "text": [
      "oracle: 0    results: q(0)=0000000000\n",
      "oracle: 1    results: q(0)=0000000000\n",
      "oracle: x    results: q(0)=1111111111\n",
      "oracle: notx results: q(0)=1111111111\n"
     ]
    }
   ],
   "source": [
    "# Get a simulator\n",
    "simulator = cirq.Simulator()\n",
    "\n",
    "# Execute the circuit for each oracle to distinguish constant from balanced\n",
    "for key, oracle in oracles.items():\n",
    "    result = simulator.run(\n",
    "        cirq.Circuit(deutsch_algorithm(oracle)),\n",
    "        repetitions=10\n",
    "    )\n",
    "    print('oracle: {:<4} results: {}'.format(key, result))"
   ]
  },
  {
   "cell_type": "markdown",
   "metadata": {},
   "source": [
    "### Deutsch-Jozsa's algorithm on three qubits"
   ]
  },
  {
   "cell_type": "code",
   "execution_count": 1,
   "metadata": {},
   "outputs": [],
   "source": [
    "import cirq\n",
    "\n",
    "# Get three qubits, two data qubits and one target qubit, respectively\n",
    "q0, q1, q2 = cirq.LineQubit.range(3)"
   ]
  },
  {
   "cell_type": "code",
   "execution_count": 9,
   "metadata": {},
   "outputs": [],
   "source": [
    "# Oracles for constant functions\n",
    "constant = ([], [cirq.X(q2)])\n",
    "\n",
    "# Oracles for balnced functions\n",
    "balanced = ([cirq.CNOT(q0,q2)], [cirq.CNOT(q1,q2)],\n",
    "            [cirq.CNOT(q0,q2)], [cirq.CNOT(q1,q2)],\n",
    "            [cirq.CNOT(q0,q2)], [cirq.X(q2)],\n",
    "            [cirq.CNOT(q1,q2)], [cirq.X(q2)],\n",
    "            [cirq.CNOT(q0,q2)], [cirq.CNOT(q1,q2)],[cirq.X(q2)]\n",
    "            )"
   ]
  },
  {
   "cell_type": "code",
   "execution_count": 3,
   "metadata": {},
   "outputs": [],
   "source": [
    "def your_circuit(oracle):\n",
    "    \"\"\"Yields a circuit for the Deutsh-Joza algorithm on three qubits\"\"\"\n",
    "    # phase kickback trick\n",
    "    yield cirq.X(q2), cirq.H(q2)\n",
    "\n",
    "    # equal supersposition over input bits\n",
    "    yield cirq.H(q0), cirq.H(q1)\n",
    "\n",
    "    # query the function\n",
    "    yield oracle\n",
    "\n",
    "    # interference to get result, put last qubit into |1>\n",
    "    yield cirq.H(q0), cirq.H(q1), cirq.H(q2)\n",
    "\n",
    "    # a final OR gate to put result in final qubit\n",
    "    yield cirq.X(q0), cirq.X(q1), cirq.CCX(q0,q1,q2)\n",
    "    yield cirq.measure(q2)"
   ]
  },
  {
   "cell_type": "code",
   "execution_count": 4,
   "metadata": {},
   "outputs": [],
   "source": [
    "# get a simulator\n",
    "sim = cirq.Simulator()"
   ]
  },
  {
   "cell_type": "code",
   "execution_count": 11,
   "metadata": {},
   "outputs": [
    {
     "name": "stdout",
     "output_type": "stream",
     "text": [
      "Your result on constant funtions\n",
      "q(2)=0000000000\n"
     ]
    }
   ],
   "source": [
    "# Execute ciruit for oracles of constant value functions\n",
    "print('Your result on constant funtions')\n",
    "for oracle in constant:\n",
    "    result = sim.run(cirq.Circuit(your_circuit(oracle)),repetitions=10)\n",
    "print(result)"
   ]
  },
  {
   "cell_type": "code",
   "execution_count": 8,
   "metadata": {},
   "outputs": [
    {
     "name": "stdout",
     "output_type": "stream",
     "text": [
      "Your result on balanced funtions\n",
      "q(2)=0000000000\n"
     ]
    }
   ],
   "source": [
    "# Execute ciruit for oracles of balanced functions\n",
    "print('Your result on balanced funtions')\n",
    "for oracle in balanced:\n",
    "    result = sim.run(cirq.Circuit(your_circuit(oracle)),repetitions=10)\n",
    "print(result)"
   ]
  }
 ],
 "metadata": {
  "kernelspec": {
   "display_name": "Python 3",
   "language": "python",
   "name": "python3"
  },
  "language_info": {
   "codemirror_mode": {
    "name": "ipython",
    "version": 3
   },
   "file_extension": ".py",
   "mimetype": "text/x-python",
   "name": "python",
   "nbconvert_exporter": "python",
   "pygments_lexer": "ipython3",
   "version": "3.9.6"
  }
 },
 "nbformat": 4,
 "nbformat_minor": 2
}
