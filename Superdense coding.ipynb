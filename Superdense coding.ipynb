{
 "cells": [
  {
   "cell_type": "markdown",
   "metadata": {},
   "source": [
    "# Superdense coding in Cirq"
   ]
  },
  {
   "cell_type": "code",
   "execution_count": 1,
   "metadata": {},
   "outputs": [],
   "source": [
    "# Imports\n",
    "import cirq"
   ]
  },
  {
   "cell_type": "code",
   "execution_count": 3,
   "metadata": {},
   "outputs": [],
   "source": [
    "# Helper function for visulazing output\n",
    "def bitstring(bits):\n",
    "    return ''.join('1' if e else '0' for e in bits) \n",
    "\n",
    "# Helper function to flatten the measurement results\n",
    "def flatten_measurement_results(measurements):\n",
    "    return [bit for sublist in measurements for bit in sublist]"
   ]
  },
  {
   "cell_type": "code",
   "execution_count": 4,
   "metadata": {},
   "outputs": [],
   "source": [
    "# Create two quantum and classical registers\n",
    "qreg = [cirq.LineQubit(x) for x in range(2)]\n",
    "circ = cirq.Circuit()"
   ]
  },
  {
   "cell_type": "code",
   "execution_count": 5,
   "metadata": {},
   "outputs": [],
   "source": [
    "# Dictionary of operations for each message\n",
    "message = {\"00\": [],\n",
    "        \"01\": [cirq.X(qreg[0])],\n",
    "        \"10\": [cirq.Z(qreg[0])],\n",
    "        \"11\": [cirq.X(qreg[0]), cirq.Z(qreg[0])]}"
   ]
  },
  {
   "cell_type": "code",
   "execution_count": 6,
   "metadata": {},
   "outputs": [],
   "source": [
    "# Alice creates a Bell pair\n",
    "circ.append([cirq.H(qreg[0]), cirq.CNOT(qreg[0],qreg[1])])"
   ]
  },
  {
   "cell_type": "code",
   "execution_count": 7,
   "metadata": {},
   "outputs": [
    {
     "name": "stdout",
     "output_type": "stream",
     "text": [
      "Alice's sent message =  01\n"
     ]
    }
   ],
   "source": [
    "# Alice picks a message to send\n",
    "m = \"01\"\n",
    "print(\"Alice's sent message = \", m)"
   ]
  },
  {
   "cell_type": "code",
   "execution_count": 8,
   "metadata": {},
   "outputs": [],
   "source": [
    "# Alice encodes her message with the appropriate quantum operations\n",
    "circ.append(message[m])"
   ]
  },
  {
   "cell_type": "code",
   "execution_count": 9,
   "metadata": {},
   "outputs": [],
   "source": [
    "# Bob measures in the Bell basis\n",
    "circ.append([cirq.CNOT(qreg[0],qreg[1]), cirq.H(qreg[0])])\n",
    "circ.append(cirq.measure(qreg[0], qreg[1]))"
   ]
  },
  {
   "cell_type": "code",
   "execution_count": 10,
   "metadata": {},
   "outputs": [
    {
     "name": "stdout",
     "output_type": "stream",
     "text": [
      "\n",
      "Circuit:\n",
      "0: ───H───@───X───@───H───M───\n",
      "          │       │       │\n",
      "1: ───────X───────X───────M───\n"
     ]
    }
   ],
   "source": [
    "# Print out the circuit\n",
    "print(\"\\nCircuit:\")\n",
    "print(circ)"
   ]
  },
  {
   "cell_type": "code",
   "execution_count": 11,
   "metadata": {},
   "outputs": [],
   "source": [
    "# Run the quantum circuit on a Simulator backend\n",
    "sim = cirq.Simulator()\n",
    "res = sim.run(circ, repetitions=1)"
   ]
  },
  {
   "cell_type": "code",
   "execution_count": 17,
   "metadata": {},
   "outputs": [
    {
     "name": "stdout",
     "output_type": "stream",
     "text": [
      "\n",
      "Bob's received message = 01\n"
     ]
    }
   ],
   "source": [
    "# Print out Bob's received message: the outcome of the circuit\n",
    "measurements = res.measurements.values()\n",
    "\n",
    "# Correctly access and process the measurements\n",
    "flat_measurements = [bit for key, value in res.measurements.items() for bit in value[0]]\n",
    "\n",
    "# Use the corrected flat measurements to generate the bitstring\n",
    "print(\"\\nBob's received message =\", bitstring(flat_measurements))\n"
   ]
  }
 ],
 "metadata": {
  "kernelspec": {
   "display_name": "Python 3",
   "language": "python",
   "name": "python3"
  },
  "language_info": {
   "codemirror_mode": {
    "name": "ipython",
    "version": 3
   },
   "file_extension": ".py",
   "mimetype": "text/x-python",
   "name": "python",
   "nbconvert_exporter": "python",
   "pygments_lexer": "ipython3",
   "version": "3.9.6"
  }
 },
 "nbformat": 4,
 "nbformat_minor": 2
}
